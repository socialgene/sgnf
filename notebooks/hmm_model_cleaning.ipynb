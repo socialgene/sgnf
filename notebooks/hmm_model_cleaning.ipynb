{
 "cells": [
  {
   "cell_type": "markdown",
   "metadata": {},
   "source": [
    "Because I am pulling in hmm profiles from many different sources there will be redundancies (e.g. antismash, bigslice, others, all contian PFAM profiles)\n",
    "\n",
    "The code below contains much of the same code as is used to create the unique ids for the hmm profiles in the socialgene database. I will use it to show how many redundant hmm profiles are present."
   ]
  },
  {
   "cell_type": "code",
   "execution_count": 1,
   "metadata": {},
   "outputs": [],
   "source": [
    "from IPython.display import Markdown\n",
    "from pathlib import Path\n",
    "import csv\n",
    "import sys\n",
    "import os\n",
    "import re\n",
    "import hashlib\n",
    "\n",
    "\n",
    "input_dir = \"/home/chase/Documents/socialgene_outdir/hmm_downloads\"\n",
    "\n",
    "model_main = []\n",
    "iter_int = 0\n",
    "dict_info = []\n",
    "\n",
    "\n",
    "def socialgene_id(iter_int):\n",
    "    return \"\".join([\"sg_hmm_\", str(iter_int)])\n",
    "\n",
    "\n",
    "iterco = 0\n",
    "for path in Path(input_dir).rglob(\"*_socialgene\"):\n",
    "    rel_path = path.relative_to(input_dir)\n",
    "    model_dict = {\n",
    "        \"rel_path\": rel_path,\n",
    "        \"models\": [],\n",
    "        \"name\": [],\n",
    "        \"acc\": [],\n",
    "        \"hmm\": [None],\n",
    "    }\n",
    "    with open(path, \"r\") as f:\n",
    "        temp_list = []\n",
    "        temp_list2 = []\n",
    "        for line in f:\n",
    "            iterco += 1\n",
    "            if line.startswith(\"ACC \"):\n",
    "                model_dict[\"acc\"] = line.strip().split(maxsplit=1)[1]\n",
    "            if line.startswith(\"NAME \"):\n",
    "                model_dict[\"name\"] = line.strip().split(maxsplit=1)[1]\n",
    "            if line.strip() == \"//\":\n",
    "                temp_list.append(line)\n",
    "                model_dict[\"models\"].append(temp_list)\n",
    "                model_dict[\"hmm\"].append(temp_list2)\n",
    "                temp_list = []\n",
    "                temp_list2 = []\n",
    "                model_main.append(model_dict)\n",
    "                model_dict = {\n",
    "                    \"rel_path\": rel_path,\n",
    "                    \"models\": [],\n",
    "                    \"name\": [],\n",
    "                    \"acc\": [],\n",
    "                    \"hmm\": [None],\n",
    "                }\n",
    "            else:\n",
    "                if line.startswith(\"HMM \") or len(temp_list2) > 0:\n",
    "                    temp_list2.append(line)\n",
    "                temp_list.append(line)"
   ]
  },
  {
   "cell_type": "markdown",
   "metadata": {},
   "source": [
    "To quickly compare exact profile matches, I took the the entire hmm profile block and saved it in the dict (e.g. model_main[0][\"hmm\"])\n",
    "Below I concatenate all the lines within each hmm block and hash the resulting string."
   ]
  },
  {
   "cell_type": "code",
   "execution_count": 2,
   "metadata": {},
   "outputs": [],
   "source": [
    "hash_list = [\n",
    "    hashlib.md5(bytes(\"\".join(i[\"hmm\"][1]), encoding=\"utf-8\")).hexdigest()\n",
    "    for i in model_main\n",
    "]"
   ]
  },
  {
   "cell_type": "markdown",
   "metadata": {},
   "source": [
    "Now we compare the length of all the hmms..."
   ]
  },
  {
   "cell_type": "code",
   "execution_count": 3,
   "metadata": {},
   "outputs": [
    {
     "name": "stdout",
     "output_type": "stream",
     "text": [
      "28050\n"
     ]
    }
   ],
   "source": [
    "print(len(hash_list))"
   ]
  },
  {
   "cell_type": "markdown",
   "metadata": {},
   "source": [
    "and the unique list of hmms..."
   ]
  },
  {
   "cell_type": "code",
   "execution_count": 5,
   "metadata": {},
   "outputs": [
    {
     "data": {
      "text/plain": [
       "27506"
      ]
     },
     "execution_count": 5,
     "metadata": {},
     "output_type": "execute_result"
    }
   ],
   "source": [
    "len(set(hash_list))"
   ]
  },
  {
   "cell_type": "markdown",
   "metadata": {},
   "source": [
    "and the difference between the two... "
   ]
  },
  {
   "cell_type": "code",
   "execution_count": 6,
   "metadata": {},
   "outputs": [
    {
     "data": {
      "text/plain": [
       "544"
      ]
     },
     "execution_count": 6,
     "metadata": {},
     "output_type": "execute_result"
    }
   ],
   "source": [
    "len(hash_list) - len(set(hash_list))"
   ]
  },
  {
   "cell_type": "markdown",
   "metadata": {},
   "source": [
    "So, for this iteration there were 514 duplicate hmms (hmm profiles that were completely identical)"
   ]
  }
 ],
 "metadata": {
  "kernelspec": {
   "display_name": "Python 3",
   "language": "python",
   "name": "python3"
  },
  "language_info": {
   "codemirror_mode": {
    "name": "ipython",
    "version": 3
   },
   "file_extension": ".py",
   "mimetype": "text/x-python",
   "name": "python",
   "nbconvert_exporter": "python",
   "pygments_lexer": "ipython3",
   "version": "3.8.5"
  },
  "metadata": {
   "interpreter": {
    "hash": "e1945ddaf25c1f5b771e7a0c59cabeff12b740c78a114211f42a7bad02f9cc30"
   }
  }
 },
 "nbformat": 4,
 "nbformat_minor": 2
}
